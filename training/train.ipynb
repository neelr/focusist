{
  "nbformat": 4,
  "nbformat_minor": 0,
  "metadata": {
    "colab": {
      "name": "train",
      "provenance": [],
      "collapsed_sections": []
    },
    "kernelspec": {
      "name": "python3",
      "display_name": "Python 3"
    }
  },
  "cells": [
    {
      "cell_type": "code",
      "metadata": {
        "id": "uiGXSFmGOnqa"
      },
      "source": [
        "import torch\n",
        "from numpy import genfromtxt\n",
        "import numpy as np\n",
        "from tqdm import tqdm\n",
        "\n",
        "data = genfromtxt('/content/data.csv', delimiter=',')"
      ],
      "execution_count": 191,
      "outputs": []
    },
    {
      "cell_type": "code",
      "metadata": {
        "id": "lJAX6SpTQOoL"
      },
      "source": [
        "data = data[1:]"
      ],
      "execution_count": 192,
      "outputs": []
    },
    {
      "cell_type": "code",
      "metadata": {
        "colab": {
          "base_uri": "https://localhost:8080/"
        },
        "id": "wymnU6ltQR76",
        "outputId": "78897e49-ade2-49ba-bd6e-f8d0fd4ca815"
      },
      "source": [
        "data.shape"
      ],
      "execution_count": 193,
      "outputs": [
        {
          "output_type": "execute_result",
          "data": {
            "text/plain": [
              "(2909, 12)"
            ]
          },
          "metadata": {
            "tags": []
          },
          "execution_count": 193
        }
      ]
    },
    {
      "cell_type": "code",
      "metadata": {
        "id": "U7r6VxHYQT18"
      },
      "source": [
        "data = np.delete(data, range(0,3) , 1)"
      ],
      "execution_count": 194,
      "outputs": []
    },
    {
      "cell_type": "code",
      "metadata": {
        "id": "23RHpwllQavd"
      },
      "source": [
        "rolling = []\n",
        "newData = []\n",
        "buf = data[0][8]\n",
        "for i in data:\n",
        "    if i[8] != buf:\n",
        "        buf = i[8]\n",
        "        rolling = []\n",
        "    rolling.append(i)\n",
        "    if len(rolling) == 10:\n",
        "        newData.append(np.array(rolling))\n",
        "        rolling.pop()\n",
        "newData = np.array(newData)"
      ],
      "execution_count": 195,
      "outputs": []
    },
    {
      "cell_type": "code",
      "metadata": {
        "colab": {
          "base_uri": "https://localhost:8080/"
        },
        "id": "rNDJg6w5SgkZ",
        "outputId": "3f94d598-e72d-4878-ec23-28febba4258e"
      },
      "source": [
        "newData.shape"
      ],
      "execution_count": 196,
      "outputs": [
        {
          "output_type": "execute_result",
          "data": {
            "text/plain": [
              "(2891, 10, 9)"
            ]
          },
          "metadata": {
            "tags": []
          },
          "execution_count": 196
        }
      ]
    },
    {
      "cell_type": "code",
      "metadata": {
        "id": "7HMVr1V9VIl7"
      },
      "source": [
        "data = newData\n",
        "np.random.shuffle(data)\n",
        "y = []\n",
        "for i,x in enumerate(data):\n",
        "    y.append(x[0][8])\n",
        "data = np.delete(data, 8, 2)"
      ],
      "execution_count": 197,
      "outputs": []
    },
    {
      "cell_type": "code",
      "metadata": {
        "id": "tasOpD9CVVoH"
      },
      "source": [
        "y = np.array(y)"
      ],
      "execution_count": 200,
      "outputs": []
    },
    {
      "cell_type": "code",
      "metadata": {
        "id": "3LjKnwqPVX6g"
      },
      "source": [
        "def convert(n):\n",
        "    if n == 1:\n",
        "        return [0.,1.]\n",
        "    else:\n",
        "        return [1.,0.]\n",
        "y = np.asarray(list(map(convert,y)))"
      ],
      "execution_count": 201,
      "outputs": []
    },
    {
      "cell_type": "code",
      "metadata": {
        "id": "UxHzWT10Vd97"
      },
      "source": [
        "np.save(\"/content/drive/MyDrive/Focusist/y_lstm.npy\", y)\n",
        "np.save(\"/content/drive/MyDrive/Focusist/x_lstm.npy\", data)"
      ],
      "execution_count": 132,
      "outputs": []
    },
    {
      "cell_type": "code",
      "metadata": {
        "colab": {
          "base_uri": "https://localhost:8080/"
        },
        "id": "9EoKt8hYXCym",
        "outputId": "f5a51ed4-b5c3-446a-c6ad-6750220207a6"
      },
      "source": [
        "y"
      ],
      "execution_count": 202,
      "outputs": [
        {
          "output_type": "execute_result",
          "data": {
            "text/plain": [
              "array([[1., 0.],\n",
              "       [1., 0.],\n",
              "       [0., 1.],\n",
              "       ...,\n",
              "       [1., 0.],\n",
              "       [0., 1.],\n",
              "       [1., 0.]])"
            ]
          },
          "metadata": {
            "tags": []
          },
          "execution_count": 202
        }
      ]
    },
    {
      "cell_type": "code",
      "metadata": {
        "id": "UtOct4wvVzDp"
      },
      "source": [
        "from torch.utils.data import TensorDataset, DataLoader\n",
        "import torch.nn.functional as F\n",
        "bs = 16\n",
        "test_size = 500\n",
        "data, y = map(torch.tensor, (data, y))\n",
        "data = F.normalize(data, dim=1)\n",
        "data = data.double()\n",
        "y = y.double()\n",
        "\n",
        "train_ds = TensorDataset(data[test_size:,:], y[test_size:])\n",
        "valid_ds = TensorDataset(data[:test_size,:], y[:test_size])"
      ],
      "execution_count": 203,
      "outputs": []
    },
    {
      "cell_type": "code",
      "metadata": {
        "id": "Gb68x_nCV3c_"
      },
      "source": [
        "def loss_batch(model, loss_func, xb, yb, opt=None):\n",
        "    loss = loss_func(model(xb), yb.double())\n",
        "    if opt is not None:\n",
        "        loss.backward()\n",
        "        opt.step()\n",
        "        opt.zero_grad()\n",
        "    return loss.item(), len(xb)\n",
        "def fit(epochs, model, loss_func, opt, train_dl, valid_dl):\n",
        "    for epoch in range(epochs):\n",
        "        model.train()\n",
        "        for xb, yb in train_dl:\n",
        "            loss_batch(model, loss_func, xb, yb, opt)\n",
        "\n",
        "        model.eval()\n",
        "        with torch.no_grad():\n",
        "            losses, nums = zip(\n",
        "                *[loss_batch(model, loss_func, xb, yb) for xb, yb in valid_dl]\n",
        "            )\n",
        "        val_loss = np.sum(np.multiply(losses, nums)) / np.sum(nums)\n",
        "\n",
        "        print(epoch, val_loss)\n",
        "def get_data(train_ds, valid_ds, bs):\n",
        "    return (\n",
        "        DataLoader(train_ds, batch_size=bs, shuffle=True),\n",
        "        DataLoader(valid_ds, batch_size=bs * 2),\n",
        "    )"
      ],
      "execution_count": 227,
      "outputs": []
    },
    {
      "cell_type": "code",
      "metadata": {
        "id": "Mno9JgO0WJrp"
      },
      "source": [
        "from torch import nn\n",
        "class model(nn.Module):\n",
        "    def __init__(self):\n",
        "        super().__init__()\n",
        "        self.dropout = nn.Dropout(0.5)\n",
        "        self.layer1 = nn.Linear(80, 70)\n",
        "        self.layer2 = nn.Linear(70, 50)\n",
        "        self.layer3 = nn.Linear(50, 50)\n",
        "        self.layer4 = nn.Linear(50, 10)\n",
        "        self.layer5 = nn.Linear(10, 2)\n",
        "        self.sigmoid = nn.Sigmoid()\n",
        "    def forward(self, xb):\n",
        "        initial = xb.size(0)\n",
        "        xb = xb.view(initial, 1, -1)\n",
        "        xb = self.layer1(xb)\n",
        "        xb = self.layer2(xb)\n",
        "        xb = self.dropout(xb)\n",
        "        xb = self.layer3(xb)\n",
        "        xb = self.dropout(xb)\n",
        "        xb = self.layer4(xb)\n",
        "        xb = self.dropout(xb)\n",
        "        xb = self.layer5(xb)\n",
        "        xb = self.sigmoid(xb.view(initial,-1))\n",
        "        return xb.double()"
      ],
      "execution_count": 225,
      "outputs": []
    },
    {
      "cell_type": "code",
      "metadata": {
        "id": "sI2daT1tWbpK"
      },
      "source": [
        "train_dl, valid_dl = get_data(train_ds, valid_ds, bs)"
      ],
      "execution_count": 228,
      "outputs": []
    },
    {
      "cell_type": "code",
      "metadata": {
        "colab": {
          "base_uri": "https://localhost:8080/"
        },
        "id": "MzPocvT4WVuW",
        "outputId": "e4686ae8-df4f-4c94-9e0e-8da167a7ddc0"
      },
      "source": [
        "from torch import optim\n",
        "brain = model()\n",
        "opt = optim.Adam(brain.parameters(), lr=0.002)\n",
        "loss_func = F.binary_cross_entropy\n",
        "fit(27, brain.double(), loss_func, opt, train_dl, valid_dl)"
      ],
      "execution_count": 237,
      "outputs": [
        {
          "output_type": "stream",
          "text": [
            "0 1.5807145574020992e-06\n",
            "1 1.1038233584785875e-06\n",
            "2 7.78755212544099e-07\n",
            "3 5.710067071663429e-07\n",
            "4 4.3343558664940346e-07\n",
            "5 3.3979493298062523e-07\n",
            "6 2.7119296515148977e-07\n",
            "7 2.2139069704519811e-07\n",
            "8 1.8330597844892274e-07\n",
            "9 1.5422285531843197e-07\n",
            "10 1.3071517082376903e-07\n",
            "11 1.1218300774497517e-07\n",
            "12 9.694591576631564e-08\n",
            "13 8.435732136573989e-08\n",
            "14 7.388645668361135e-08\n",
            "15 6.528928724724503e-08\n",
            "16 5.760072799240676e-08\n",
            "17 5.118403448016039e-08\n",
            "18 4.574256647839299e-08\n",
            "19 4.084381699033208e-08\n",
            "20 3.665153109187854e-08\n",
            "21 3.298739884016982e-08\n",
            "22 2.977398443158039e-08\n",
            "23 2.691374902199148e-08\n",
            "24 2.4398184073338707e-08\n",
            "25 2.211581091968876e-08\n",
            "26 2.0130711349013226e-08\n"
          ],
          "name": "stdout"
        }
      ]
    },
    {
      "cell_type": "code",
      "metadata": {
        "colab": {
          "base_uri": "https://localhost:8080/"
        },
        "id": "hdWSutVWlZi7",
        "outputId": "45c9bde1-d3db-4522-8ccd-14acc19b63e8"
      },
      "source": [
        "wrong = 0\n",
        "right = 0\n",
        "for batch in valid_dl:\n",
        "    x,y = batch\n",
        "    guesses = brain(x).max(1)[1]\n",
        "    for i,guess in enumerate(guesses):\n",
        "        if guess == y.max(1)[1][i]:\n",
        "            right+=1\n",
        "        else:\n",
        "            wrong+=1\n",
        "print(\"Right: \"+str(right))\n",
        "print(\"Wrong: \"+str(wrong))"
      ],
      "execution_count": 241,
      "outputs": [
        {
          "output_type": "stream",
          "text": [
            "Right: 500\n",
            "Wrong: 0\n"
          ],
          "name": "stdout"
        }
      ]
    },
    {
      "cell_type": "code",
      "metadata": {
        "id": "rA96dY8pmWJC"
      },
      "source": [
        "torch.save(brain.state_dict(), \"brain.pth\")"
      ],
      "execution_count": 242,
      "outputs": []
    }
  ]
}